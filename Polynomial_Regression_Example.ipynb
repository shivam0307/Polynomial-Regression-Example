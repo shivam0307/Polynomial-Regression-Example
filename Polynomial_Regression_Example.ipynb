{
 "cells": [
  {
   "cell_type": "markdown",
   "id": "ef0e2565",
   "metadata": {},
   "source": [
    "# Polynomial Regression "
   ]
  },
  {
   "cell_type": "markdown",
   "id": "5d960a15",
   "metadata": {},
   "source": [
    "Polynomial regression, like linear regression, uses the relationship between the variables x and y to find the best way to draw a line through the data points."
   ]
  },
  {
   "attachments": {
    "image.png": {
     "image/png": "[encoded data removed]"
    }
   },
   "cell_type": "markdown",
   "id": "fcccc8b9",
   "metadata": {},
   "source": [
    "![image.png](attachment:image.png)"
   ]
  },
  {
   "cell_type": "markdown",
   "id": "5f52874d",
   "metadata": {},
   "source": [
    "# Importing Libraries"
   ]
  },
  {
   "cell_type": "code",
   "execution_count": 1,
   "id": "3c40238f",
   "metadata": {},
   "outputs": [],
   "source": [
    "import pandas as pd\n",
    "import numpy as np\n",
    "import matplotlib.pyplot as plt\n",
    "from sklearn.linear_model import LinearRegression \n",
    "from sklearn.preprocessing import PolynomialFeatures \n",
    "from sklearn.metrics import r2_score"
   ]
  },
  {
   "cell_type": "markdown",
   "id": "99ce5703",
   "metadata": {},
   "source": [
    "# Data Collection & Preprocessing for Modelling"
   ]
  },
  {
   "cell_type": "code",
   "execution_count": 2,
   "id": "ac12ae6d",
   "metadata": {},
   "outputs": [
    {
     "name": "stdout",
     "output_type": "stream",
     "text": [
      "     0     1\n",
      "1  1.0   1.0\n",
      "2  2.0   1.3\n",
      "3  3.0   2.0\n",
      "4  4.0   4.0\n",
      "5  5.0   8.0\n",
      "6  6.0  11.0\n"
     ]
    }
   ],
   "source": [
    "x={1:[1,1],2:[2,1.3],3:[3,2],4:[4,4],5:[5,8],6:[6,11]}      #input\n",
    "df=pd.DataFrame(x)    #creating dataframe using values of x\n",
    "df=df.T\n",
    "print(df)"
   ]
  },
  {
   "cell_type": "code",
   "execution_count": 3,
   "id": "df71fc60",
   "metadata": {},
   "outputs": [],
   "source": [
    "#accesing values from dataframe\n",
    "a=df.iloc[:,0:1]      #accesing values from dataframe\n",
    "b=df.iloc[:,1]"
   ]
  },
  {
   "cell_type": "markdown",
   "id": "17b4dff5",
   "metadata": {},
   "source": [
    "Data Analysis using Scatter Plot"
   ]
  },
  {
   "cell_type": "code",
   "execution_count": 5,
   "id": "979d702a",
   "metadata": {},
   "outputs": [
    {
     "data": {
      "text/plain": [
       "<matplotlib.collections.PathCollection at 0x27648538ee0>"
      ]
     },
     "execution_count": 5,
     "metadata": {},
     "output_type": "execute_result"
    },
    {
     "data": {
      "image/png": "[encoded data removed]",
      "text/plain": [
       "<Figure size 432x288 with 1 Axes>"
      ]
     },
     "metadata": {
      "needs_background": "light"
     },
     "output_type": "display_data"
    }
   ],
   "source": [
    "plt.scatter(df[0],df[1])"
   ]
  },
  {
   "cell_type": "markdown",
   "id": "8d366db5",
   "metadata": {},
   "source": [
    "# Data Modelling"
   ]
  },
  {
   "cell_type": "markdown",
   "id": "ecc70c0b",
   "metadata": {},
   "source": [
    "Using Linear Regression"
   ]
  },
  {
   "cell_type": "code",
   "execution_count": 6,
   "id": "33cc5682",
   "metadata": {},
   "outputs": [],
   "source": [
    "from sklearn.linear_model import LinearRegression    #importing Linear regression Function\n",
    "lr=LinearRegression()\n",
    "mdl=lr.fit(a,b)            #fitting data\n",
    "pred=mdl.predict(a)        #predicting the output value\n",
    "c=mdl.coef_                #coefficient of the equation of predicted output\n",
    "i=mdl.intercept_           #intercept of the equation of predicted output"
   ]
  },
  {
   "cell_type": "code",
   "execution_count": 7,
   "id": "7658eb42",
   "metadata": {},
   "outputs": [
    {
     "name": "stdout",
     "output_type": "stream",
     "text": [
      "coefficients: [2.06]\n",
      "intercept: -2.6599999999999993\n"
     ]
    }
   ],
   "source": [
    "#printing Coefficient and Intercept\n",
    "print('coefficients:',c)\n",
    "print('intercept:',i)"
   ]
  },
  {
   "cell_type": "markdown",
   "id": "13c3c875",
   "metadata": {},
   "source": [
    "Using Polynomial Regression"
   ]
  },
  {
   "cell_type": "code",
   "execution_count": 8,
   "id": "5a95c727",
   "metadata": {},
   "outputs": [],
   "source": [
    "from sklearn.preprocessing import PolynomialFeatures   #importing Linear regression Function\n",
    "poly=PolynomialFeatures(degree=4)\n",
    "xpoly=poly.fit_transform(a)\n",
    "\n",
    "p_mdl=lr.fit(xpoly,b)\n",
    "p_pred=lr.predict(xpoly)                  #predicting the output value\n",
    "\n",
    "cp=p_mdl.coef_                            #coefficient of the equation of predicted output\n",
    "ip=p_mdl.intercept_                       #intercept of the equation of predicted output"
   ]
  },
  {
   "cell_type": "code",
   "execution_count": 9,
   "id": "dc67edf5",
   "metadata": {},
   "outputs": [
    {
     "name": "stdout",
     "output_type": "stream",
     "text": [
      "coefficients: [ 0.          7.35925926 -4.46736111  1.09212963 -0.08125   ]\n",
      "intercept: -2.916666666667706\n"
     ]
    }
   ],
   "source": [
    "#printing Coefficient and Intercept\n",
    "print('coefficients:',cp)\n",
    "print('intercept:',ip)"
   ]
  },
  {
   "cell_type": "markdown",
   "id": "ae1b50ba",
   "metadata": {},
   "source": [
    "# Checking Accuracy of Both Linear and Polynomial Regression "
   ]
  },
  {
   "cell_type": "code",
   "execution_count": 10,
   "id": "ca81d6aa",
   "metadata": {},
   "outputs": [],
   "source": [
    "from sklearn.metrics import r2_score\n",
    "r2lin=r2_score(b, pred)\n",
    "r2poly=r2_score(b, p_pred)"
   ]
  },
  {
   "cell_type": "code",
   "execution_count": 11,
   "id": "4695c6fb",
   "metadata": {},
   "outputs": [
    {
     "name": "stdout",
     "output_type": "stream",
     "text": [
      "linear regression accuracy:0.889643605870021\n",
      "polynomial regression accuracy:0.9994176566503611\n"
     ]
    }
   ],
   "source": [
    "print('linear regression accuracy:{}'.format(r2lin))\n",
    "print('polynomial regression accuracy:{}'.format(r2poly))"
   ]
  },
  {
   "cell_type": "markdown",
   "id": "3d148d40",
   "metadata": {},
   "source": [
    "# Plotting both the Models for Visualization"
   ]
  },
  {
   "cell_type": "code",
   "execution_count": 12,
   "id": "5244ead0",
   "metadata": {},
   "outputs": [
    {
     "data": {
      "image/png": "[encoded data removed]",
      "text/plain": [
       "<Figure size 432x288 with 1 Axes>"
      ]
     },
     "metadata": {
      "needs_background": "light"
     },
     "output_type": "display_data"
    }
   ],
   "source": [
    "plt.scatter(df[0],df[1])\n",
    "plt.plot(df[0],p_pred,color='green')\n",
    "plt.plot(df[0],pred,color='red')\n",
    "\n",
    "plt.show()"
   ]
  },
  {
   "cell_type": "markdown",
   "id": "b131614f",
   "metadata": {},
   "source": [
    "# Conclusion"
   ]
  },
  {
   "cell_type": "markdown",
   "id": "742ab794",
   "metadata": {},
   "source": [
    "Clearly, The Polynomial Regression Model has more accuracy. Hence, The Polynomial Regression is suitable for given dataset problem.\n",
    "This Type of Regression is used for non linear data-points."
   ]
  }
 ],
 "metadata": {
  "kernelspec": {
   "display_name": "Python 3 (ipykernel)",
   "language": "python",
   "name": "python3"
  },
  "language_info": {
   "codemirror_mode": {
    "name": "ipython",
    "version": 3
   },
   "file_extension": ".py",
   "mimetype": "text/x-python",
   "name": "python",
   "nbconvert_exporter": "python",
   "pygments_lexer": "ipython3",
   "version": "3.10.4"
  }
 },
 "nbformat": 4,
 "nbformat_minor": 5
}
